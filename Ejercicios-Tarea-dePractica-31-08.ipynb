{
 "cells": [
  {
   "cell_type": "code",
   "execution_count": null,
   "metadata": {},
   "outputs": [],
   "source": [
    "def obtener_nombre_mes(numero_mes): \n",
    "    meses = ( \"Enero\", \"Febrero\", \"Marzo\", \"Abril\", \n",
    "            \"Mayo\", \"Junio\", \"Julio\", \"Agosto\", \n",
    "            \"Septiembre\", \"Octubre\", \"Noviembre\",\n",
    "            \"Diciembre\") \n",
    "    if 1 <= numero_mes <= 12:\n",
    "        return meses[numero_mes - 1]\n",
    "    else: \n",
    "        return \"Número de mes inválido\"     \n",
    "numero = int(input(\"Ingresa un número entre 1 y 12: \")) \n",
    "nombre_mes = obtener_nombre_mes(numero)\n",
    "print(nombre_mes)\n"
   ]
  },
  {
   "cell_type": "code",
   "execution_count": null,
   "metadata": {},
   "outputs": [],
   "source": [
    "def contar_palabras(cadena):\n",
    "    palabras = cadena.split() \n",
    "    return len(palabras) \n",
    "\n",
    "cadena = input(\"Escriba una frase profunda...: \")\n",
    "cantidad_palabras = contar_palabras(cadena) \n",
    "print(f\"La frase tiene {cantidad_palabras} palabras.\")"
   ]
  },
  {
   "cell_type": "code",
   "execution_count": 1,
   "metadata": {},
   "outputs": [
    {
     "name": "stdout",
     "output_type": "stream",
     "text": [
      "Notas ingresadas: [6.0, 7.0, 4.0, 8.0, 6.0]\n",
      "Nota media: 6.2\n",
      "Nota alta: 8.0\n",
      "Nota baja: 4.0\n"
     ]
    }
   ],
   "source": [
    "notas = []\n",
    "\n",
    "for i in range(5):\n",
    "    nota = float(input(f\"Escriba la nota {i + 1}: \"))\n",
    "    \n",
    "    if 0 <= nota <= 10:\n",
    "        notas.append(nota)\n",
    "    else:\n",
    "        print(\"La nota ingresada no está en el rango de 0 a 10. Ingrese un número válido.\")\n",
    "\n",
    "print(\"Notas ingresadas:\", notas)\n",
    "\n",
    "media = sum(notas) / len(notas)\n",
    "print(f\"Nota media: {media}\")\n",
    "\n",
    "alta = max(notas)\n",
    "baja = min(notas)\n",
    "print(f\"Nota alta: {alta}\")\n",
    "print(f\"Nota baja: {baja}\")\n"
   ]
  }
 ],
 "metadata": {
  "kernelspec": {
   "display_name": "Python 3",
   "language": "python",
   "name": "python3"
  },
  "language_info": {
   "codemirror_mode": {
    "name": "ipython",
    "version": 3
   },
   "file_extension": ".py",
   "mimetype": "text/x-python",
   "name": "python",
   "nbconvert_exporter": "python",
   "pygments_lexer": "ipython3",
   "version": "3.11.2"
  },
  "orig_nbformat": 4
 },
 "nbformat": 4,
 "nbformat_minor": 2
}
